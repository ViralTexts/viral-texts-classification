{
  "nbformat": 4,
  "nbformat_minor": 0,
  "metadata": {
    "colab": {
      "name": "RecipeClassification.ipynb",
      "provenance": [],
      "authorship_tag": "ABX9TyOHGZSwJb8UhI9NM7xSCqUm",
      "include_colab_link": true
    },
    "kernelspec": {
      "name": "ir",
      "display_name": "R"
    },
    "language_info": {
      "name": "R"
    }
  },
  "cells": [
    {
      "cell_type": "markdown",
      "metadata": {
        "id": "view-in-github",
        "colab_type": "text"
      },
      "source": [
        "<a href=\"https://colab.research.google.com/github/ViralTexts/viral-texts-classification/blob/workshop/RecipeClassification.ipynb\" target=\"_parent\"><img src=\"https://colab.research.google.com/assets/colab-badge.svg\" alt=\"Open In Colab\"/></a>"
      ]
    },
    {
      "cell_type": "code",
      "source": [
        "install.packages(\"tidytext\")\n",
        "library(tidyverse)\n",
        "library(tidytext)"
      ],
      "metadata": {
        "colab": {
          "base_uri": "https://localhost:8080/"
        },
        "id": "NUUdlPtLmNg_",
        "outputId": "1e8b8ec6-560d-4223-f4b0-9207d2106cf9"
      },
      "execution_count": 15,
      "outputs": [
        {
          "output_type": "stream",
          "name": "stderr",
          "text": [
            "Installing package into ‘/usr/local/lib/R/site-library’\n",
            "(as ‘lib’ is unspecified)\n",
            "\n",
            "also installing the dependencies ‘SnowballC’, ‘hunspell’, ‘janeaustenr’, ‘tokenizers’\n",
            "\n",
            "\n"
          ]
        }
      ]
    },
    {
      "cell_type": "markdown",
      "source": [
        "_Viral Texts_ RA Avery Blankenship wrote more about why she assembled this corpus of nineteenth-century receipes in this blog post, which also links to the text files if you want to read some of them: <https://viraltexts.org/2021/02/24/c19-recipes/>"
      ],
      "metadata": {
        "id": "wY0cBK4wqeyV"
      }
    },
    {
      "cell_type": "code",
      "execution_count": 11,
      "metadata": {
        "colab": {
          "base_uri": "https://localhost:8080/",
          "height": 1000
        },
        "id": "jeHP8lg9kfl6",
        "outputId": "b5be9fe3-b11e-4da4-8bf5-10cc41dc92c6"
      },
      "outputs": [
        {
          "output_type": "stream",
          "name": "stderr",
          "text": [
            "\u001b[1mRows: \u001b[22m\u001b[34m1034\u001b[39m \u001b[1mColumns: \u001b[22m\u001b[34m3\u001b[39m\n",
            "\u001b[36m──\u001b[39m \u001b[1mColumn specification\u001b[22m \u001b[36m────────────────────────────────────────────────────────\u001b[39m\n",
            "\u001b[1mDelimiter:\u001b[22m \",\"\n",
            "\u001b[31mchr\u001b[39m (3): doc_id, text, genre\n",
            "\n",
            "\u001b[36mℹ\u001b[39m Use `spec()` to retrieve the full column specification for this data.\n",
            "\u001b[36mℹ\u001b[39m Specify the column types or set `show_col_types = FALSE` to quiet this message.\n"
          ]
        },
        {
          "output_type": "display_data",
          "data": {
            "text/html": [
              "<table class=\"dataframe\">\n",
              "<caption>A tibble: 6 × 3</caption>\n",
              "<thead>\n",
              "\t<tr><th scope=col>doc_id</th><th scope=col>text</th><th scope=col>genre</th></tr>\n",
              "\t<tr><th scope=col>&lt;chr&gt;</th><th scope=col>&lt;chr&gt;</th><th scope=col>&lt;chr&gt;</th></tr>\n",
              "</thead>\n",
              "<tbody>\n",
              "\t<tr><td>29982_anewmayonnaise.txt          </td><td>A NEW MAYONNAISE (Soyer's).--Put a quarter of a pint of stiff veal jelly\n",
              "(that has been nicely flavored with vegetables) on ice in a bowl,\n",
              "whisking it till it is a white froth; then add half a pint of salad oil\n",
              "and six spoonfuls of tarragon vinegar, _by degrees_, first oil, then\n",
              "vinegar, continually whisking till it forms a white, smooth, sauce-like\n",
              "cream; season with half a teaspoonful of salt, a quarter ditto of white\n",
              "pepper, and a very little sugar, whisk it a little more and it is ready.\n",
              "It should be dressed pyramidically over the article it is served with.\n",
              "The advantage of this sauce is that (although more delicate than any\n",
              "other) you may dress it to any height you like, and it will remain so\n",
              "any length of time; if the temperature is cool, it will remain hours\n",
              "without appearing greasy or melting. It is absolutely necessary,\n",
              "however, that it should be prepared on ice.                                                                                                                                                                                                                                                                                                                                                                                                                                                                                                                                                                                                                                                                                                                                                                                                                                                                                                                                                                                                                                                                                                          </td><td>recipe</td></tr>\n",
              "\t<tr><td>29982_anicelittlebreakfastdish.txt</td><td>A NICE LITTLE BREAKFAST DISH IS made thus: Cut two long slices of cold\n",
              "meat and three of bread, buttered thickly, about the same shape and\n",
              "size; season the meat with pepper, salt, and a little finely chopped\n",
              "parsley; or, if it is veal, a little chopped ham; then lay one slice of\n",
              "bread between two of meat, and have the other two slices outside; fasten\n",
              "together with short wooden skewers. If you have a quick oven, put it in;\n",
              "and take care to baste with butter thoroughly, that the bread may be all\n",
              "over crisp and brown. If you can't depend on your oven, fry it in very\n",
              "hot fat as you would crullers; garnish with sprigs of parsley, and serve\n",
              "very hot.                                                                                                                                                                                                                                                                                                                                                                                                                                                                                                                                                                                                                                                                                                                                                                                                                                                                                                                                                                                                                                                                                                                                                                                                                                                                                                                                                     </td><td>recipe</td></tr>\n",
              "\t<tr><td>29982_anothervealandhampie.txt    </td><td>ANOTHER VEAL AND HAM PIE, more usual, and probably the \"weal and hammer\"\n",
              "that \"mellered the organ\" of Silas Wegg, was manufactured by Mrs. Boffin\n",
              "from this recipe; it is as follows:\n",
              "\n",
              "Take the thick part of breast of veal, removing all the bones, which put\n",
              "on for gravy, stewing them long and slowly; put a layer of veal, pepper\n",
              "and salt, then a thin sprinkling of ham; if boiled, cut in slices; if\n",
              "raw, cut a slice in dice, which scald before using, then more veal and\n",
              "again ham. If force-meat balls are liked, make some force-meat as for\n",
              "Windsor pie, using if you prefer it chopped hard-boiled eggs in place of\n",
              "chopped meat, and binding into a paste with a raw egg; then make into\n",
              "balls, which drop into the crevices of the pie; boil two or three eggs\n",
              "quite hard, cut each in four and lay them round the sides and over the\n",
              "top, pour in about a gill of gravy, and cover the same as the Windsor\n",
              "pie. In either of these pies the force-meat may be left out, a\n",
              "sweetbread cut up, or mushrooms put in.\n",
              "\n",
              "A chicken pie to eat cold is very fine made in this way.                                                                                                                                                                                                                                                                                                                                                                                                                                                                                                                                                                                                                                                                                                                                                                                                                                                                                                                           </td><td>recipe</td></tr>\n",
              "\t<tr><td>29982_baba.txt                    </td><td>BABA.--One pound of flour; take one quarter of it, and make a sponge\n",
              "with half an ounce of compressed yeast and a little warm water, set it\n",
              "to rise, make a hole in the rest of the flour, add to it ten ounces of\n",
              "butter, three eggs, and a dessert-spoonful of sugar, a little salt,\n",
              "unless your butter salts it enough, which is generally the case. Beat\n",
              "all together well, then add five more eggs, one at a time, that is to\n",
              "say, add one egg and beat well, then another and beat again, and so on\n",
              "until the five are used. When the paste leaves the bowl it is beaten\n",
              "enough, but not before; then add the sponge to it, and a large half\n",
              "ounce of citron chopped, the same of currants, and an ounce and a half\n",
              "of sultana raisins, seedless. Let it rise to twice its size, then bake\n",
              "it in an oven of dark yellow paper heat; the small round babas are an\n",
              "innovation of the pastry-cook to enable him to sell them uncut. But the\n",
              "baba proper should be baked in a large, deep, upright tin, such as a\n",
              "large charlotte russe mold, when they keep for several days fresh, and\n",
              "if they get stale, make delicious fritters, soaked in sherry and dipped\n",
              "in frying batter.\n",
              "\n",
              "In some cases, however, it may be preferred to make them as usually seen\n",
              "at French pastry cooks; for this purpose you require a dozen small-sized\n",
              "_round_ charlotte russe molds, which fill half full only, as they rise\n",
              "very much; bake these in a hotter oven, light brown paper heat; try with\n",
              "a twig as you would any other cake, if it comes out dry it is done; then\n",
              "prepare a syrup as follows: Boil half pound of sugar in a pint of water,\n",
              "add to this the third of a pint of rum, and some apricot pulp--peach\n",
              "will of course do--and boil all together a few minutes; pour this half\n",
              "an inch deep in a dish, and stand the cake or cakes in it; it should\n",
              "drink up all the syrup, you may also sprinkle some over it. If any syrup\n",
              "remains, use it to warm over your cake when stale, instead of the\n",
              "sherry.</td><td>recipe</td></tr>\n",
              "\t<tr><td>29982_beefaugratin.txt            </td><td>BEEF AU GRATIN.--Cut a little fat bacon or pork very thin, sprinkle on\n",
              "it chopped parsley, onion, and mushrooms (mushroom powder will do) and\n",
              "bread-crumbs; then put in layers of beef, cut thick, and well and\n",
              "closely hacked, then another layer of bacon or pork cut thin as a wafer,\n",
              "and of seasoning, crumbs last; pour over enough broth or gravy to\n",
              "moisten well, in which a little brandy or wine may be added if an\n",
              "especially good dish is desired; bake slowly an hour.                                                                                                                                                                                                                                                                                                                                                                                                                                                                                                                                                                                                                                                                                                                                                                                                                                                                                                                                                                                                                                                                                                                                                                                                                                                                                                                                                                                                                                                                                                                                                  </td><td>recipe</td></tr>\n",
              "\t<tr><td>29982_beefolives.txt              </td><td>\n",
              "BEEF OLIVES are no novelty to the ear, but it is a novel thing to find\n",
              "them satisfactory to the palate.\n",
              "\n",
              "Take some stale bread-crumbs, an equal quantity of beef finely chopped,\n",
              "some parsley, and thyme; a little scraped ham if you have it, a few\n",
              "chives, or a slice of onion, all chopped small as possible; put some\n",
              "butter in a pan, and let this force-meat just simmer, _not fry_, in it\n",
              "for ten minutes. While this is cooking, cut some underdone oblong slices\n",
              "of beef about half an inch thick, hack it with a sharp knife on _both\n",
              "sides_; then mix the cooked force-meat with the yolk of an egg and a\n",
              "tablespoonful of gravy; put a spoonful of this paste in the center of\n",
              "each slice of meat and tie it up carefully in the shape of an egg. Then\n",
              "if you have some nice gravy, thicken it with a piece of butter rolled in\n",
              "flour, roll each olive slightly in flour and lay it in the gravy and let\n",
              "it very gently _simmer_ for half an hour. A few chopped oysters added to\n",
              "the gravy will be a great addition. Or you may lay each olive on a thin\n",
              "slice of fat pork, roll it up, tie it, dip it in flour, and bake in a\n",
              "quick oven until beautifully brown.                                                                                                                                                                                                                                                                                                                                                                                                                                                                                                                                                                                                                                                                                                                                                                                                                                        </td><td>recipe</td></tr>\n",
              "</tbody>\n",
              "</table>\n"
            ],
            "text/markdown": "\nA tibble: 6 × 3\n\n| doc_id &lt;chr&gt; | text &lt;chr&gt; | genre &lt;chr&gt; |\n|---|---|---|\n| 29982_anewmayonnaise.txt           | A NEW MAYONNAISE (Soyer's).--Put a quarter of a pint of stiff veal jelly\n(that has been nicely flavored with vegetables) on ice in a bowl,\nwhisking it till it is a white froth; then add half a pint of salad oil\nand six spoonfuls of tarragon vinegar, _by degrees_, first oil, then\nvinegar, continually whisking till it forms a white, smooth, sauce-like\ncream; season with half a teaspoonful of salt, a quarter ditto of white\npepper, and a very little sugar, whisk it a little more and it is ready.\nIt should be dressed pyramidically over the article it is served with.\nThe advantage of this sauce is that (although more delicate than any\nother) you may dress it to any height you like, and it will remain so\nany length of time; if the temperature is cool, it will remain hours\nwithout appearing greasy or melting. It is absolutely necessary,\nhowever, that it should be prepared on ice.                                                                                                                                                                                                                                                                                                                                                                                                                                                                                                                                                                                                                                                                                                                                                                                                                                                                                                                                                                                                                                                                                                           | recipe |\n| 29982_anicelittlebreakfastdish.txt | A NICE LITTLE BREAKFAST DISH IS made thus: Cut two long slices of cold\nmeat and three of bread, buttered thickly, about the same shape and\nsize; season the meat with pepper, salt, and a little finely chopped\nparsley; or, if it is veal, a little chopped ham; then lay one slice of\nbread between two of meat, and have the other two slices outside; fasten\ntogether with short wooden skewers. If you have a quick oven, put it in;\nand take care to baste with butter thoroughly, that the bread may be all\nover crisp and brown. If you can't depend on your oven, fry it in very\nhot fat as you would crullers; garnish with sprigs of parsley, and serve\nvery hot.                                                                                                                                                                                                                                                                                                                                                                                                                                                                                                                                                                                                                                                                                                                                                                                                                                                                                                                                                                                                                                                                                                                                                                                                                                                                                                                                                      | recipe |\n| 29982_anothervealandhampie.txt     | ANOTHER VEAL AND HAM PIE, more usual, and probably the \"weal and hammer\"\nthat \"mellered the organ\" of Silas Wegg, was manufactured by Mrs. Boffin\nfrom this recipe; it is as follows:\n\nTake the thick part of breast of veal, removing all the bones, which put\non for gravy, stewing them long and slowly; put a layer of veal, pepper\nand salt, then a thin sprinkling of ham; if boiled, cut in slices; if\nraw, cut a slice in dice, which scald before using, then more veal and\nagain ham. If force-meat balls are liked, make some force-meat as for\nWindsor pie, using if you prefer it chopped hard-boiled eggs in place of\nchopped meat, and binding into a paste with a raw egg; then make into\nballs, which drop into the crevices of the pie; boil two or three eggs\nquite hard, cut each in four and lay them round the sides and over the\ntop, pour in about a gill of gravy, and cover the same as the Windsor\npie. In either of these pies the force-meat may be left out, a\nsweetbread cut up, or mushrooms put in.\n\nA chicken pie to eat cold is very fine made in this way.                                                                                                                                                                                                                                                                                                                                                                                                                                                                                                                                                                                                                                                                                                                                                                                                                                                                                                                            | recipe |\n| 29982_baba.txt                     | BABA.--One pound of flour; take one quarter of it, and make a sponge\nwith half an ounce of compressed yeast and a little warm water, set it\nto rise, make a hole in the rest of the flour, add to it ten ounces of\nbutter, three eggs, and a dessert-spoonful of sugar, a little salt,\nunless your butter salts it enough, which is generally the case. Beat\nall together well, then add five more eggs, one at a time, that is to\nsay, add one egg and beat well, then another and beat again, and so on\nuntil the five are used. When the paste leaves the bowl it is beaten\nenough, but not before; then add the sponge to it, and a large half\nounce of citron chopped, the same of currants, and an ounce and a half\nof sultana raisins, seedless. Let it rise to twice its size, then bake\nit in an oven of dark yellow paper heat; the small round babas are an\ninnovation of the pastry-cook to enable him to sell them uncut. But the\nbaba proper should be baked in a large, deep, upright tin, such as a\nlarge charlotte russe mold, when they keep for several days fresh, and\nif they get stale, make delicious fritters, soaked in sherry and dipped\nin frying batter.\n\nIn some cases, however, it may be preferred to make them as usually seen\nat French pastry cooks; for this purpose you require a dozen small-sized\n_round_ charlotte russe molds, which fill half full only, as they rise\nvery much; bake these in a hotter oven, light brown paper heat; try with\na twig as you would any other cake, if it comes out dry it is done; then\nprepare a syrup as follows: Boil half pound of sugar in a pint of water,\nadd to this the third of a pint of rum, and some apricot pulp--peach\nwill of course do--and boil all together a few minutes; pour this half\nan inch deep in a dish, and stand the cake or cakes in it; it should\ndrink up all the syrup, you may also sprinkle some over it. If any syrup\nremains, use it to warm over your cake when stale, instead of the\nsherry. | recipe |\n| 29982_beefaugratin.txt             | BEEF AU GRATIN.--Cut a little fat bacon or pork very thin, sprinkle on\nit chopped parsley, onion, and mushrooms (mushroom powder will do) and\nbread-crumbs; then put in layers of beef, cut thick, and well and\nclosely hacked, then another layer of bacon or pork cut thin as a wafer,\nand of seasoning, crumbs last; pour over enough broth or gravy to\nmoisten well, in which a little brandy or wine may be added if an\nespecially good dish is desired; bake slowly an hour.                                                                                                                                                                                                                                                                                                                                                                                                                                                                                                                                                                                                                                                                                                                                                                                                                                                                                                                                                                                                                                                                                                                                                                                                                                                                                                                                                                                                                                                                                                                                                   | recipe |\n| 29982_beefolives.txt               | \nBEEF OLIVES are no novelty to the ear, but it is a novel thing to find\nthem satisfactory to the palate.\n\nTake some stale bread-crumbs, an equal quantity of beef finely chopped,\nsome parsley, and thyme; a little scraped ham if you have it, a few\nchives, or a slice of onion, all chopped small as possible; put some\nbutter in a pan, and let this force-meat just simmer, _not fry_, in it\nfor ten minutes. While this is cooking, cut some underdone oblong slices\nof beef about half an inch thick, hack it with a sharp knife on _both\nsides_; then mix the cooked force-meat with the yolk of an egg and a\ntablespoonful of gravy; put a spoonful of this paste in the center of\neach slice of meat and tie it up carefully in the shape of an egg. Then\nif you have some nice gravy, thicken it with a piece of butter rolled in\nflour, roll each olive slightly in flour and lay it in the gravy and let\nit very gently _simmer_ for half an hour. A few chopped oysters added to\nthe gravy will be a great addition. Or you may lay each olive on a thin\nslice of fat pork, roll it up, tie it, dip it in flour, and bake in a\nquick oven until beautifully brown.                                                                                                                                                                                                                                                                                                                                                                                                                                                                                                                                                                                                                                                                                                                                                                                                                                         | recipe |\n\n",
            "text/latex": "A tibble: 6 × 3\n\\begin{tabular}{lll}\n doc\\_id & text & genre\\\\\n <chr> & <chr> & <chr>\\\\\n\\hline\n\t 29982\\_anewmayonnaise.txt           & A NEW MAYONNAISE (Soyer's).--Put a quarter of a pint of stiff veal jelly\n(that has been nicely flavored with vegetables) on ice in a bowl,\nwhisking it till it is a white froth; then add half a pint of salad oil\nand six spoonfuls of tarragon vinegar, \\_by degrees\\_, first oil, then\nvinegar, continually whisking till it forms a white, smooth, sauce-like\ncream; season with half a teaspoonful of salt, a quarter ditto of white\npepper, and a very little sugar, whisk it a little more and it is ready.\nIt should be dressed pyramidically over the article it is served with.\nThe advantage of this sauce is that (although more delicate than any\nother) you may dress it to any height you like, and it will remain so\nany length of time; if the temperature is cool, it will remain hours\nwithout appearing greasy or melting. It is absolutely necessary,\nhowever, that it should be prepared on ice.                                                                                                                                                                                                                                                                                                                                                                                                                                                                                                                                                                                                                                                                                                                                                                                                                                                                                                                                                                                                                                                                                                           & recipe\\\\\n\t 29982\\_anicelittlebreakfastdish.txt & A NICE LITTLE BREAKFAST DISH IS made thus: Cut two long slices of cold\nmeat and three of bread, buttered thickly, about the same shape and\nsize; season the meat with pepper, salt, and a little finely chopped\nparsley; or, if it is veal, a little chopped ham; then lay one slice of\nbread between two of meat, and have the other two slices outside; fasten\ntogether with short wooden skewers. If you have a quick oven, put it in;\nand take care to baste with butter thoroughly, that the bread may be all\nover crisp and brown. If you can't depend on your oven, fry it in very\nhot fat as you would crullers; garnish with sprigs of parsley, and serve\nvery hot.                                                                                                                                                                                                                                                                                                                                                                                                                                                                                                                                                                                                                                                                                                                                                                                                                                                                                                                                                                                                                                                                                                                                                                                                                                                                                                                                                      & recipe\\\\\n\t 29982\\_anothervealandhampie.txt     & ANOTHER VEAL AND HAM PIE, more usual, and probably the \"weal and hammer\"\nthat \"mellered the organ\" of Silas Wegg, was manufactured by Mrs. Boffin\nfrom this recipe; it is as follows:\n\nTake the thick part of breast of veal, removing all the bones, which put\non for gravy, stewing them long and slowly; put a layer of veal, pepper\nand salt, then a thin sprinkling of ham; if boiled, cut in slices; if\nraw, cut a slice in dice, which scald before using, then more veal and\nagain ham. If force-meat balls are liked, make some force-meat as for\nWindsor pie, using if you prefer it chopped hard-boiled eggs in place of\nchopped meat, and binding into a paste with a raw egg; then make into\nballs, which drop into the crevices of the pie; boil two or three eggs\nquite hard, cut each in four and lay them round the sides and over the\ntop, pour in about a gill of gravy, and cover the same as the Windsor\npie. In either of these pies the force-meat may be left out, a\nsweetbread cut up, or mushrooms put in.\n\nA chicken pie to eat cold is very fine made in this way.                                                                                                                                                                                                                                                                                                                                                                                                                                                                                                                                                                                                                                                                                                                                                                                                                                                                                                                            & recipe\\\\\n\t 29982\\_baba.txt                     & BABA.--One pound of flour; take one quarter of it, and make a sponge\nwith half an ounce of compressed yeast and a little warm water, set it\nto rise, make a hole in the rest of the flour, add to it ten ounces of\nbutter, three eggs, and a dessert-spoonful of sugar, a little salt,\nunless your butter salts it enough, which is generally the case. Beat\nall together well, then add five more eggs, one at a time, that is to\nsay, add one egg and beat well, then another and beat again, and so on\nuntil the five are used. When the paste leaves the bowl it is beaten\nenough, but not before; then add the sponge to it, and a large half\nounce of citron chopped, the same of currants, and an ounce and a half\nof sultana raisins, seedless. Let it rise to twice its size, then bake\nit in an oven of dark yellow paper heat; the small round babas are an\ninnovation of the pastry-cook to enable him to sell them uncut. But the\nbaba proper should be baked in a large, deep, upright tin, such as a\nlarge charlotte russe mold, when they keep for several days fresh, and\nif they get stale, make delicious fritters, soaked in sherry and dipped\nin frying batter.\n\nIn some cases, however, it may be preferred to make them as usually seen\nat French pastry cooks; for this purpose you require a dozen small-sized\n\\_round\\_ charlotte russe molds, which fill half full only, as they rise\nvery much; bake these in a hotter oven, light brown paper heat; try with\na twig as you would any other cake, if it comes out dry it is done; then\nprepare a syrup as follows: Boil half pound of sugar in a pint of water,\nadd to this the third of a pint of rum, and some apricot pulp--peach\nwill of course do--and boil all together a few minutes; pour this half\nan inch deep in a dish, and stand the cake or cakes in it; it should\ndrink up all the syrup, you may also sprinkle some over it. If any syrup\nremains, use it to warm over your cake when stale, instead of the\nsherry. & recipe\\\\\n\t 29982\\_beefaugratin.txt             & BEEF AU GRATIN.--Cut a little fat bacon or pork very thin, sprinkle on\nit chopped parsley, onion, and mushrooms (mushroom powder will do) and\nbread-crumbs; then put in layers of beef, cut thick, and well and\nclosely hacked, then another layer of bacon or pork cut thin as a wafer,\nand of seasoning, crumbs last; pour over enough broth or gravy to\nmoisten well, in which a little brandy or wine may be added if an\nespecially good dish is desired; bake slowly an hour.                                                                                                                                                                                                                                                                                                                                                                                                                                                                                                                                                                                                                                                                                                                                                                                                                                                                                                                                                                                                                                                                                                                                                                                                                                                                                                                                                                                                                                                                                                                                                   & recipe\\\\\n\t 29982\\_beefolives.txt               & \nBEEF OLIVES are no novelty to the ear, but it is a novel thing to find\nthem satisfactory to the palate.\n\nTake some stale bread-crumbs, an equal quantity of beef finely chopped,\nsome parsley, and thyme; a little scraped ham if you have it, a few\nchives, or a slice of onion, all chopped small as possible; put some\nbutter in a pan, and let this force-meat just simmer, \\_not fry\\_, in it\nfor ten minutes. While this is cooking, cut some underdone oblong slices\nof beef about half an inch thick, hack it with a sharp knife on \\_both\nsides\\_; then mix the cooked force-meat with the yolk of an egg and a\ntablespoonful of gravy; put a spoonful of this paste in the center of\neach slice of meat and tie it up carefully in the shape of an egg. Then\nif you have some nice gravy, thicken it with a piece of butter rolled in\nflour, roll each olive slightly in flour and lay it in the gravy and let\nit very gently \\_simmer\\_ for half an hour. A few chopped oysters added to\nthe gravy will be a great addition. Or you may lay each olive on a thin\nslice of fat pork, roll it up, tie it, dip it in flour, and bake in a\nquick oven until beautifully brown.                                                                                                                                                                                                                                                                                                                                                                                                                                                                                                                                                                                                                                                                                                                                                                                                                                         & recipe\\\\\n\\end{tabular}\n",
            "text/plain": [
              "  doc_id                            \n",
              "1 29982_anewmayonnaise.txt          \n",
              "2 29982_anicelittlebreakfastdish.txt\n",
              "3 29982_anothervealandhampie.txt    \n",
              "4 29982_baba.txt                    \n",
              "5 29982_beefaugratin.txt            \n",
              "6 29982_beefolives.txt              \n",
              "  text                                                                                                                                                                                                                                                                                                                                                                                                                                                                                                                                                                                                                                                                                                                                                                                                                                                                                                                                                                                                                                                                                                                                                                                                                                                                                                                                                                                                                                                                                                                                                                                                                                                                                                                                                                                                                                                                                                                                                                                                                                      \n",
              "1 A NEW MAYONNAISE (Soyer's).--Put a quarter of a pint of stiff veal jelly\\n(that has been nicely flavored with vegetables) on ice in a bowl,\\nwhisking it till it is a white froth; then add half a pint of salad oil\\nand six spoonfuls of tarragon vinegar, _by degrees_, first oil, then\\nvinegar, continually whisking till it forms a white, smooth, sauce-like\\ncream; season with half a teaspoonful of salt, a quarter ditto of white\\npepper, and a very little sugar, whisk it a little more and it is ready.\\nIt should be dressed pyramidically over the article it is served with.\\nThe advantage of this sauce is that (although more delicate than any\\nother) you may dress it to any height you like, and it will remain so\\nany length of time; if the temperature is cool, it will remain hours\\nwithout appearing greasy or melting. It is absolutely necessary,\\nhowever, that it should be prepared on ice.                                                                                                                                                                                                                                                                                                                                                                                                                                                                                                                                                                                                                                                                                                                                                                                                                                                                                                                                                                                                                                                                                                          \n",
              "2 A NICE LITTLE BREAKFAST DISH IS made thus: Cut two long slices of cold\\nmeat and three of bread, buttered thickly, about the same shape and\\nsize; season the meat with pepper, salt, and a little finely chopped\\nparsley; or, if it is veal, a little chopped ham; then lay one slice of\\nbread between two of meat, and have the other two slices outside; fasten\\ntogether with short wooden skewers. If you have a quick oven, put it in;\\nand take care to baste with butter thoroughly, that the bread may be all\\nover crisp and brown. If you can't depend on your oven, fry it in very\\nhot fat as you would crullers; garnish with sprigs of parsley, and serve\\nvery hot.                                                                                                                                                                                                                                                                                                                                                                                                                                                                                                                                                                                                                                                                                                                                                                                                                                                                                                                                                                                                                                                                                                                                                                                                                                                                                                                                                     \n",
              "3 ANOTHER VEAL AND HAM PIE, more usual, and probably the \"weal and hammer\"\\nthat \"mellered the organ\" of Silas Wegg, was manufactured by Mrs. Boffin\\nfrom this recipe; it is as follows:\\n\\nTake the thick part of breast of veal, removing all the bones, which put\\non for gravy, stewing them long and slowly; put a layer of veal, pepper\\nand salt, then a thin sprinkling of ham; if boiled, cut in slices; if\\nraw, cut a slice in dice, which scald before using, then more veal and\\nagain ham. If force-meat balls are liked, make some force-meat as for\\nWindsor pie, using if you prefer it chopped hard-boiled eggs in place of\\nchopped meat, and binding into a paste with a raw egg; then make into\\nballs, which drop into the crevices of the pie; boil two or three eggs\\nquite hard, cut each in four and lay them round the sides and over the\\ntop, pour in about a gill of gravy, and cover the same as the Windsor\\npie. In either of these pies the force-meat may be left out, a\\nsweetbread cut up, or mushrooms put in.\\n\\nA chicken pie to eat cold is very fine made in this way.                                                                                                                                                                                                                                                                                                                                                                                                                                                                                                                                                                                                                                                                                                                                                                                                                                                                                                                           \n",
              "4 BABA.--One pound of flour; take one quarter of it, and make a sponge\\nwith half an ounce of compressed yeast and a little warm water, set it\\nto rise, make a hole in the rest of the flour, add to it ten ounces of\\nbutter, three eggs, and a dessert-spoonful of sugar, a little salt,\\nunless your butter salts it enough, which is generally the case. Beat\\nall together well, then add five more eggs, one at a time, that is to\\nsay, add one egg and beat well, then another and beat again, and so on\\nuntil the five are used. When the paste leaves the bowl it is beaten\\nenough, but not before; then add the sponge to it, and a large half\\nounce of citron chopped, the same of currants, and an ounce and a half\\nof sultana raisins, seedless. Let it rise to twice its size, then bake\\nit in an oven of dark yellow paper heat; the small round babas are an\\ninnovation of the pastry-cook to enable him to sell them uncut. But the\\nbaba proper should be baked in a large, deep, upright tin, such as a\\nlarge charlotte russe mold, when they keep for several days fresh, and\\nif they get stale, make delicious fritters, soaked in sherry and dipped\\nin frying batter.\\n\\nIn some cases, however, it may be preferred to make them as usually seen\\nat French pastry cooks; for this purpose you require a dozen small-sized\\n_round_ charlotte russe molds, which fill half full only, as they rise\\nvery much; bake these in a hotter oven, light brown paper heat; try with\\na twig as you would any other cake, if it comes out dry it is done; then\\nprepare a syrup as follows: Boil half pound of sugar in a pint of water,\\nadd to this the third of a pint of rum, and some apricot pulp--peach\\nwill of course do--and boil all together a few minutes; pour this half\\nan inch deep in a dish, and stand the cake or cakes in it; it should\\ndrink up all the syrup, you may also sprinkle some over it. If any syrup\\nremains, use it to warm over your cake when stale, instead of the\\nsherry.\n",
              "5 BEEF AU GRATIN.--Cut a little fat bacon or pork very thin, sprinkle on\\nit chopped parsley, onion, and mushrooms (mushroom powder will do) and\\nbread-crumbs; then put in layers of beef, cut thick, and well and\\nclosely hacked, then another layer of bacon or pork cut thin as a wafer,\\nand of seasoning, crumbs last; pour over enough broth or gravy to\\nmoisten well, in which a little brandy or wine may be added if an\\nespecially good dish is desired; bake slowly an hour.                                                                                                                                                                                                                                                                                                                                                                                                                                                                                                                                                                                                                                                                                                                                                                                                                                                                                                                                                                                                                                                                                                                                                                                                                                                                                                                                                                                                                                                                                                                                                  \n",
              "6 \\nBEEF OLIVES are no novelty to the ear, but it is a novel thing to find\\nthem satisfactory to the palate.\\n\\nTake some stale bread-crumbs, an equal quantity of beef finely chopped,\\nsome parsley, and thyme; a little scraped ham if you have it, a few\\nchives, or a slice of onion, all chopped small as possible; put some\\nbutter in a pan, and let this force-meat just simmer, _not fry_, in it\\nfor ten minutes. While this is cooking, cut some underdone oblong slices\\nof beef about half an inch thick, hack it with a sharp knife on _both\\nsides_; then mix the cooked force-meat with the yolk of an egg and a\\ntablespoonful of gravy; put a spoonful of this paste in the center of\\neach slice of meat and tie it up carefully in the shape of an egg. Then\\nif you have some nice gravy, thicken it with a piece of butter rolled in\\nflour, roll each olive slightly in flour and lay it in the gravy and let\\nit very gently _simmer_ for half an hour. A few chopped oysters added to\\nthe gravy will be a great addition. Or you may lay each olive on a thin\\nslice of fat pork, roll it up, tie it, dip it in flour, and bake in a\\nquick oven until beautifully brown.                                                                                                                                                                                                                                                                                                                                                                                                                                                                                                                                                                                                                                                                                                                                                                                                                                        \n",
              "  genre \n",
              "1 recipe\n",
              "2 recipe\n",
              "3 recipe\n",
              "4 recipe\n",
              "5 recipe\n",
              "6 recipe"
            ]
          },
          "metadata": {}
        }
      ],
      "source": [
        "texts <- read_csv(\"https://github.com/ViralTexts/viral-texts-classification/raw/workshop/hand-tagged/recipes.csv?raw=true\")\n",
        "\n",
        "head(texts)"
      ]
    },
    {
      "cell_type": "code",
      "source": [
        "tidy_texts <- texts %>%\n",
        "  unnest_tokens(word, text) %>%\n",
        "  group_by(word) %>%\n",
        "  anti_join(stop_words) %>%\n",
        "  ungroup()\n",
        "\n",
        "head(tidy_texts)"
      ],
      "metadata": {
        "colab": {
          "base_uri": "https://localhost:8080/",
          "height": 304
        },
        "id": "AElyoonel-ZK",
        "outputId": "9f64e7ee-70fb-4171-b6af-984112ab998e"
      },
      "execution_count": 17,
      "outputs": [
        {
          "output_type": "stream",
          "name": "stderr",
          "text": [
            "\u001b[1m\u001b[22mJoining, by = \"word\"\n"
          ]
        },
        {
          "output_type": "display_data",
          "data": {
            "text/html": [
              "<table class=\"dataframe\">\n",
              "<caption>A tibble: 6 × 3</caption>\n",
              "<thead>\n",
              "\t<tr><th scope=col>doc_id</th><th scope=col>genre</th><th scope=col>word</th></tr>\n",
              "\t<tr><th scope=col>&lt;chr&gt;</th><th scope=col>&lt;chr&gt;</th><th scope=col>&lt;chr&gt;</th></tr>\n",
              "</thead>\n",
              "<tbody>\n",
              "\t<tr><td>29982_anewmayonnaise.txt</td><td>recipe</td><td>mayonnaise</td></tr>\n",
              "\t<tr><td>29982_anewmayonnaise.txt</td><td>recipe</td><td>soyer's   </td></tr>\n",
              "\t<tr><td>29982_anewmayonnaise.txt</td><td>recipe</td><td>quarter   </td></tr>\n",
              "\t<tr><td>29982_anewmayonnaise.txt</td><td>recipe</td><td>pint      </td></tr>\n",
              "\t<tr><td>29982_anewmayonnaise.txt</td><td>recipe</td><td>stiff     </td></tr>\n",
              "\t<tr><td>29982_anewmayonnaise.txt</td><td>recipe</td><td>veal      </td></tr>\n",
              "</tbody>\n",
              "</table>\n"
            ],
            "text/markdown": "\nA tibble: 6 × 3\n\n| doc_id &lt;chr&gt; | genre &lt;chr&gt; | word &lt;chr&gt; |\n|---|---|---|\n| 29982_anewmayonnaise.txt | recipe | mayonnaise |\n| 29982_anewmayonnaise.txt | recipe | soyer's    |\n| 29982_anewmayonnaise.txt | recipe | quarter    |\n| 29982_anewmayonnaise.txt | recipe | pint       |\n| 29982_anewmayonnaise.txt | recipe | stiff      |\n| 29982_anewmayonnaise.txt | recipe | veal       |\n\n",
            "text/latex": "A tibble: 6 × 3\n\\begin{tabular}{lll}\n doc\\_id & genre & word\\\\\n <chr> & <chr> & <chr>\\\\\n\\hline\n\t 29982\\_anewmayonnaise.txt & recipe & mayonnaise\\\\\n\t 29982\\_anewmayonnaise.txt & recipe & soyer's   \\\\\n\t 29982\\_anewmayonnaise.txt & recipe & quarter   \\\\\n\t 29982\\_anewmayonnaise.txt & recipe & pint      \\\\\n\t 29982\\_anewmayonnaise.txt & recipe & stiff     \\\\\n\t 29982\\_anewmayonnaise.txt & recipe & veal      \\\\\n\\end{tabular}\n",
            "text/plain": [
              "  doc_id                   genre  word      \n",
              "1 29982_anewmayonnaise.txt recipe mayonnaise\n",
              "2 29982_anewmayonnaise.txt recipe soyer's   \n",
              "3 29982_anewmayonnaise.txt recipe quarter   \n",
              "4 29982_anewmayonnaise.txt recipe pint      \n",
              "5 29982_anewmayonnaise.txt recipe stiff     \n",
              "6 29982_anewmayonnaise.txt recipe veal      "
            ]
          },
          "metadata": {}
        }
      ]
    },
    {
      "cell_type": "code",
      "source": [
        "test_data <- sample_n(texts, 100, replace = FALSE) %>%\n",
        "  mutate(genre = \"unknown\")\n",
        "train_data <- anti_join(texts, test_data) %>%\n",
        "  mutate(genre = \"recipe\")"
      ],
      "metadata": {
        "id": "fHk8AfUInSe0"
      },
      "execution_count": null,
      "outputs": []
    },
    {
      "cell_type": "code",
      "source": [
        "# head(test_data)\n",
        "# head(train_data)"
      ],
      "metadata": {
        "id": "Py5xDzr5nibt"
      },
      "execution_count": null,
      "outputs": []
    },
    {
      "cell_type": "code",
      "source": [
        "sparse_words <- tidy_texts %>%\n",
        "  count(doc_id, word) %>%\n",
        "  cast_sparse(doc_id, word, n)\n",
        "class(sparse_words)\n",
        "\n",
        "\n",
        "\n",
        "colnames(sparse_words[,20:39])\n",
        "sparse_words[1:20, 20:39]\n"
      ],
      "metadata": {
        "colab": {
          "base_uri": "https://localhost:8080/",
          "height": 480
        },
        "id": "iPccs9b3njY5",
        "outputId": "2aee42f9-bf82-4d1c-82b8-e0a490f4724c"
      },
      "execution_count": 38,
      "outputs": [
        {
          "output_type": "display_data",
          "data": {
            "text/html": [
              "'dgCMatrix'"
            ],
            "text/markdown": "'dgCMatrix'",
            "text/latex": "'dgCMatrix'",
            "text/plain": [
              "[1] \"dgCMatrix\"\n",
              "attr(,\"package\")\n",
              "[1] \"Matrix\""
            ]
          },
          "metadata": {}
        },
        {
          "output_type": "display_data",
          "data": {
            "text/html": [
              "<style>\n",
              ".list-inline {list-style: none; margin:0; padding: 0}\n",
              ".list-inline>li {display: inline-block}\n",
              ".list-inline>li:not(:last-child)::after {content: \"\\00b7\"; padding: 0 .5ex}\n",
              "</style>\n",
              "<ol class=list-inline><li>'half'</li><li>'height'</li><li>'hours'</li><li>'ice'</li><li>'jelly'</li><li>'length'</li><li>'mayonnaise'</li><li>'melting'</li><li>'nicely'</li><li>'oil'</li><li>'pepper'</li><li>'pint'</li><li>'prepared'</li><li>'pyramidically'</li><li>'quarter'</li><li>'ready'</li><li>'remain'</li><li>'salad'</li><li>'salt'</li><li>'sauce'</li></ol>\n"
            ],
            "text/markdown": "1. 'half'\n2. 'height'\n3. 'hours'\n4. 'ice'\n5. 'jelly'\n6. 'length'\n7. 'mayonnaise'\n8. 'melting'\n9. 'nicely'\n10. 'oil'\n11. 'pepper'\n12. 'pint'\n13. 'prepared'\n14. 'pyramidically'\n15. 'quarter'\n16. 'ready'\n17. 'remain'\n18. 'salad'\n19. 'salt'\n20. 'sauce'\n\n\n",
            "text/latex": "\\begin{enumerate*}\n\\item 'half'\n\\item 'height'\n\\item 'hours'\n\\item 'ice'\n\\item 'jelly'\n\\item 'length'\n\\item 'mayonnaise'\n\\item 'melting'\n\\item 'nicely'\n\\item 'oil'\n\\item 'pepper'\n\\item 'pint'\n\\item 'prepared'\n\\item 'pyramidically'\n\\item 'quarter'\n\\item 'ready'\n\\item 'remain'\n\\item 'salad'\n\\item 'salt'\n\\item 'sauce'\n\\end{enumerate*}\n",
            "text/plain": [
              " [1] \"half\"          \"height\"        \"hours\"         \"ice\"          \n",
              " [5] \"jelly\"         \"length\"        \"mayonnaise\"    \"melting\"      \n",
              " [9] \"nicely\"        \"oil\"           \"pepper\"        \"pint\"         \n",
              "[13] \"prepared\"      \"pyramidically\" \"quarter\"       \"ready\"        \n",
              "[17] \"remain\"        \"salad\"         \"salt\"          \"sauce\"        "
            ]
          },
          "metadata": {}
        },
        {
          "output_type": "stream",
          "name": "stderr",
          "text": [
            "   [[ suppressing 20 column names ‘half’, ‘height’, ‘hours’ ... ]]\n",
            "\n"
          ]
        },
        {
          "output_type": "display_data",
          "data": {
            "text/plain": [
              "20 x 20 sparse Matrix of class \"dgCMatrix\"\n",
              "                                                                               \n",
              "29982_anewmayonnaise.txt                2 1 1 2 1 1 1 1 1 2 1 2 1 1 2 1 2 1 1 2\n",
              "29982_anicelittlebreakfastdish.txt      . . . . . . . . . . 1 . . . . . . . 1 .\n",
              "29982_anothervealandhampie.txt          . . . . . . . . . . 1 . . . . . . . 1 .\n",
              "29982_baba.txt                          6 . . . . . . . . . . 2 . . 1 . . . 1 .\n",
              "29982_beefaugratin.txt                  . . . . . . . . . . . . . . . . . . . .\n",
              "29982_beefolives.txt                    2 . . . . . . . . . . . . . . . . . . .\n",
              "29982_biscuitglacealacharlesdickens.txt 3 . . 3 . . . . . . . 3 . . . 1 . . . .\n",
              "29982_biscuitglacealathackeray.txt      2 . . . . . . . . . . 3 . . . . . . . .\n",
              "29982_boeufalajardiniere.txt            . . . . . . . . . . 1 1 . . . . . . 1 .\n",
              "29982_boucheesdesdames.txt              3 . . 2 7 . . . . . . . 1 . . . . . . .\n",
              "29982_brioche.txt                       . . . . . . . . . . . . . . . 1 . . . .\n",
              "29982_celerycream.txt                   1 . . . . . . . . . 1 1 . . . . . . 1 .\n",
              "29982_creamwalnuts.txt                  . . . . . . . . . . . . . . . 1 . . . .\n",
              "29982_cromesquisoflamb.txt              . . . . . . . . . . . . . . . . . . . 2\n",
              "29982_curacoa.txt                       . . . . . . . . . . . 2 . . . 1 . . . .\n",
              "29982_cutletsalajardiniere.txt          . . . . . . . . . . . . . . . . . . . .\n",
              "29982_deviledmeat.txt                   1 . . . . . . . . 1 1 . . . . . . 1 1 4\n",
              "29982_fondantpanache.txt                2 . 1 . . 1 . . . . . . . . . . . . . .\n",
              "29982_frangipanetartlets.txt            1 . . 4 . . . . . . . 1 . . 1 . . . . .\n",
              "29982_gouffespotaufeu.txt               2 . 2 . . . . . . . . . . . . . . . 1 ."
            ]
          },
          "metadata": {}
        }
      ]
    },
    {
      "cell_type": "code",
      "source": [
        "texts_joined <- rbind(test_data, train_data)"
      ],
      "metadata": {
        "id": "j6fy8_YUpN7I"
      },
      "execution_count": 39,
      "outputs": []
    },
    {
      "cell_type": "code",
      "source": [
        "install.packages(\"glmnet\")\n",
        "library(glmnet)\n",
        "library(doMC)\n",
        "library(broom)"
      ],
      "metadata": {
        "colab": {
          "base_uri": "https://localhost:8080/",
          "height": 472
        },
        "id": "eyxV4a2XsXKv",
        "outputId": "5298d796-1d89-4168-97c8-f0c27f2efedd"
      },
      "execution_count": 41,
      "outputs": [
        {
          "output_type": "stream",
          "name": "stderr",
          "text": [
            "Installing package into ‘/usr/local/lib/R/site-library’\n",
            "(as ‘lib’ is unspecified)\n",
            "\n",
            "also installing the dependencies ‘iterators’, ‘foreach’, ‘shape’, ‘RcppEigen’\n",
            "\n",
            "\n",
            "Loading required package: Matrix\n",
            "\n",
            "\n",
            "Attaching package: ‘Matrix’\n",
            "\n",
            "\n",
            "The following objects are masked from ‘package:tidyr’:\n",
            "\n",
            "    expand, pack, unpack\n",
            "\n",
            "\n",
            "Loaded glmnet 4.1-3\n",
            "\n"
          ]
        },
        {
          "output_type": "error",
          "ename": "ERROR",
          "evalue": "ignored",
          "traceback": [
            "Error in library(doMC): there is no package called ‘doMC’\nTraceback:\n",
            "1. library(doMC)"
          ]
        }
      ]
    },
    {
      "cell_type": "code",
      "source": [
        "registerDoMC(cores = 8)\n",
        "is_recipe <- texts_joined$genre == \"recipe\"\n",
        "model <- cv.glmnet(sparse_words, is_recipe,\n",
        "                   family = \"binomial\",\n",
        "                   parallel = TRUE, keep = TRUE)\n",
        "\n",
        "coefs <- model$glmnet.fit %>%\n",
        "  tidy() %>%\n",
        "  filter(lambda == model$lambda.1se)"
      ],
      "metadata": {
        "id": "GWPFvJc7sdJR"
      },
      "execution_count": null,
      "outputs": []
    }
  ]
}