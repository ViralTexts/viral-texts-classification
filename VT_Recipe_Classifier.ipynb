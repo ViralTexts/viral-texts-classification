{
  "nbformat": 4,
  "nbformat_minor": 0,
  "metadata": {
    "colab": {
      "name": "VT-Recipe-Classifier.ipynb",
      "provenance": [],
      "authorship_tag": "ABX9TyO8ZN32hvksfztROOGqunp7",
      "include_colab_link": true
    },
    "kernelspec": {
      "name": "ir",
      "display_name": "R"
    },
    "language_info": {
      "name": "R"
    }
  },
  "cells": [
    {
      "cell_type": "markdown",
      "metadata": {
        "id": "view-in-github",
        "colab_type": "text"
      },
      "source": [
        "<a href=\"https://colab.research.google.com/github/ViralTexts/viral-texts-classification/blob/master/VT_Recipe_Classifier.ipynb\" target=\"_parent\"><img src=\"https://colab.research.google.com/assets/colab-badge.svg\" alt=\"Open In Colab\"/></a>"
      ]
    },
    {
      "cell_type": "code",
      "execution_count": null,
      "metadata": {
        "id": "G_2H6Xi0OByi"
      },
      "outputs": [],
      "source": [
        ""
      ]
    }
  ]
}